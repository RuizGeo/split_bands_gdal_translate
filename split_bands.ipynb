{
  "nbformat": 4,
  "nbformat_minor": 0,
  "metadata": {
    "colab": {
      "name": "split_bands.ipynb",
      "provenance": [],
      "collapsed_sections": [],
      "authorship_tag": "ABX9TyN4lOrClNvaxaf2qDJYMXrb",
      "include_colab_link": true
    },
    "kernelspec": {
      "name": "python3",
      "display_name": "Python 3"
    },
    "language_info": {
      "name": "python"
    }
  },
  "cells": [
    {
      "cell_type": "markdown",
      "metadata": {
        "id": "view-in-github",
        "colab_type": "text"
      },
      "source": [
        "<a href=\"https://colab.research.google.com/github/RuizGeo/split_bands_gdal_translate/blob/main/split_bands.ipynb\" target=\"_parent\"><img src=\"https://colab.research.google.com/assets/colab-badge.svg\" alt=\"Open In Colab\"/></a>"
      ]
    },
    {
      "cell_type": "code",
      "metadata": {
        "colab": {
          "base_uri": "https://localhost:8080/"
        },
        "id": "uAnErmpLs2AW",
        "outputId": "8d76921a-86ea-443c-f934-dd325192ffbc"
      },
      "source": [
        "#Install\n",
        "!pip install gdal "
      ],
      "execution_count": 1,
      "outputs": [
        {
          "output_type": "stream",
          "text": [
            "Requirement already satisfied: gdal in /usr/local/lib/python3.7/dist-packages (2.2.2)\n"
          ],
          "name": "stdout"
        }
      ]
    },
    {
      "cell_type": "code",
      "metadata": {
        "id": "opkchdr2v1uy"
      },
      "source": [
        "import os"
      ],
      "execution_count": 6,
      "outputs": []
    },
    {
      "cell_type": "code",
      "metadata": {
        "colab": {
          "base_uri": "https://localhost:8080/"
        },
        "id": "0FcWWNfctHFP",
        "outputId": "7c999f7c-69d0-4f36-e60a-93344cb16ea5"
      },
      "source": [
        "from google.colab import drive\n",
        "drive.mount('drive')"
      ],
      "execution_count": 2,
      "outputs": [
        {
          "output_type": "stream",
          "text": [
            "Mounted at drive\n"
          ],
          "name": "stdout"
        }
      ]
    },
    {
      "cell_type": "code",
      "metadata": {
        "id": "4P-tJHbLvkhW"
      },
      "source": [
        "def get_path_file(path):\n",
        "    #   print(os.listdir(path))\n",
        "    n_dirs=[]\n",
        "    n_files=[]\n",
        "    '''for f in os.listdir(path):\n",
        "        \n",
        "        if os.path.isdir(path+os.sep+f):\n",
        "            #dirs.append(f)\n",
        "            print ('d-', path+os.sep+f)\n",
        "        elif os.path.isfile(path+os.sep+f):\n",
        "            files.append(f)\n",
        "            print ('f-', path+os.sep+f)\n",
        "        else:\n",
        "            pass'''\n",
        "    for path, dirs, files in os.walk(path):\n",
        "        #n_dirs.append(path)\n",
        "        #print (path)\n",
        "        for f in files:\n",
        "            n_files.append(path+os.sep+f)\n",
        "            #print (f)\n",
        "        \n",
        "    return n_files"
      ],
      "execution_count": 3,
      "outputs": []
    },
    {
      "cell_type": "code",
      "metadata": {
        "id": "v1OpjvbTtSij"
      },
      "source": [
        "path_imagens_tratadas = '/content/drive/Shareddrives/CBERS4_AGRO_BA/PERIODO_UMIDO/IMAGEM_TRATADA/'\n",
        "folders = ['02_07_2020','05_06_2019','05_07_2020']#['01_07_2019']#\n",
        "out_folders = ['B1','B2','B3']"
      ],
      "execution_count": 30,
      "outputs": []
    },
    {
      "cell_type": "code",
      "metadata": {
        "colab": {
          "base_uri": "https://localhost:8080/"
        },
        "id": "ODH-IqghuY6J",
        "outputId": "fe62b868-f70b-4e45-89bd-7405569c88b1"
      },
      "source": [
        "for folder_img in folders:\n",
        "    print('##############################################################################################')\n",
        "    print('Path folder: '+path_imagens_tratadas+folder_img)\n",
        "    #Get GeoTiff files\n",
        "    paths_imgs = [f for f in get_path_file(path_imagens_tratadas+folder_img) if f.endswith('.tif')]\n",
        "    #Loop images\n",
        "    for path_img in paths_imgs:\n",
        "      print('Path image: '+path_img)\n",
        "      #Get name image\n",
        "      name_img = path_img.split('/')[-1]\n",
        "        \n",
        "      #Loop Bands\n",
        "      for i, band in enumerate(out_folders):\n",
        "          #Get name band outpt\n",
        "          out_band = path_imagens_tratadas+folder_img+os.sep+band+os.sep+band+'_'+name_img\n",
        "          print('Output '+band+': '+out_band)\n",
        "          #Export band\n",
        "          os.system('gdal_translate -of GTiff -co BIGTIFF=YES -co COMPRESS=LZW -co PREDICTOR=2 -co TILED=YES -b '+str(i+1)+' '+path_img+' '+out_band)\n",
        "          "
      ],
      "execution_count": 34,
      "outputs": [
        {
          "output_type": "stream",
          "text": [
            "##############################################################################################\n",
            "Path folder: /content/drive/Shareddrives/CBERS4_AGRO_BA/PERIODO_UMIDO/IMAGEM_TRATADA/01_07_2019\n",
            "Path image: /content/drive/Shareddrives/CBERS4_AGRO_BA/PERIODO_UMIDO/IMAGEM_TRATADA/01_07_2019/CBERS_4_PAN5M_20190701_157_114_L4_PSG.tif\n",
            "/content/drive/Shareddrives/CBERS4_AGRO_BA/PERIODO_UMIDO/IMAGEM_TRATADA/01_07_2019/B1/B1_CBERS_4_PAN5M_20190701_157_114_L4_PSG.tif\n",
            "/content/drive/Shareddrives/CBERS4_AGRO_BA/PERIODO_UMIDO/IMAGEM_TRATADA/01_07_2019/B2/B2_CBERS_4_PAN5M_20190701_157_114_L4_PSG.tif\n",
            "/content/drive/Shareddrives/CBERS4_AGRO_BA/PERIODO_UMIDO/IMAGEM_TRATADA/01_07_2019/B3/B3_CBERS_4_PAN5M_20190701_157_114_L4_PSG.tif\n",
            "Path image: /content/drive/Shareddrives/CBERS4_AGRO_BA/PERIODO_UMIDO/IMAGEM_TRATADA/01_07_2019/CBERS_4_PAN5M_20190701_157_112_L4_PSG.tif\n",
            "/content/drive/Shareddrives/CBERS4_AGRO_BA/PERIODO_UMIDO/IMAGEM_TRATADA/01_07_2019/B1/B1_CBERS_4_PAN5M_20190701_157_112_L4_PSG.tif\n",
            "/content/drive/Shareddrives/CBERS4_AGRO_BA/PERIODO_UMIDO/IMAGEM_TRATADA/01_07_2019/B2/B2_CBERS_4_PAN5M_20190701_157_112_L4_PSG.tif\n",
            "/content/drive/Shareddrives/CBERS4_AGRO_BA/PERIODO_UMIDO/IMAGEM_TRATADA/01_07_2019/B3/B3_CBERS_4_PAN5M_20190701_157_112_L4_PSG.tif\n",
            "Path image: /content/drive/Shareddrives/CBERS4_AGRO_BA/PERIODO_UMIDO/IMAGEM_TRATADA/01_07_2019/CBERS_4_PAN5M_20190701_157_113_L4_PSG.tif\n",
            "/content/drive/Shareddrives/CBERS4_AGRO_BA/PERIODO_UMIDO/IMAGEM_TRATADA/01_07_2019/B1/B1_CBERS_4_PAN5M_20190701_157_113_L4_PSG.tif\n",
            "/content/drive/Shareddrives/CBERS4_AGRO_BA/PERIODO_UMIDO/IMAGEM_TRATADA/01_07_2019/B2/B2_CBERS_4_PAN5M_20190701_157_113_L4_PSG.tif\n",
            "/content/drive/Shareddrives/CBERS4_AGRO_BA/PERIODO_UMIDO/IMAGEM_TRATADA/01_07_2019/B3/B3_CBERS_4_PAN5M_20190701_157_113_L4_PSG.tif\n"
          ],
          "name": "stdout"
        }
      ]
    }
  ]
}